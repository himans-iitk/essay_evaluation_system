{
 "cells": [
  {
   "cell_type": "code",
   "execution_count": 34,
   "id": "0797cd53",
   "metadata": {},
   "outputs": [],
   "source": [
    "#NAME : HIMANSHU MISHRA, INDIAN INSTITUTE OF TECHNOLOGY, KANPUR\n",
    "#SHL ML ASSIGNMENT"
   ]
  },
  {
   "cell_type": "code",
   "execution_count": 1,
   "id": "7341aed2",
   "metadata": {},
   "outputs": [
    {
     "name": "stderr",
     "output_type": "stream",
     "text": [
      "[nltk_data] Downloading package punkt to\n",
      "[nltk_data]     C:\\Users\\91638\\AppData\\Roaming\\nltk_data...\n",
      "[nltk_data]   Package punkt is already up-to-date!\n",
      "[nltk_data] Downloading package averaged_perceptron_tagger to\n",
      "[nltk_data]     C:\\Users\\91638\\AppData\\Roaming\\nltk_data...\n",
      "[nltk_data]   Package averaged_perceptron_tagger is already up-to-\n",
      "[nltk_data]       date!\n",
      "[nltk_data] Downloading package wordnet to\n",
      "[nltk_data]     C:\\Users\\91638\\AppData\\Roaming\\nltk_data...\n",
      "[nltk_data]   Package wordnet is already up-to-date!\n"
     ]
    }
   ],
   "source": [
    "# importing required packages\n",
    "\n",
    "import nltk\n",
    "nltk.download('punkt')\n",
    "nltk.download('averaged_perceptron_tagger')\n",
    "nltk.download('wordnet')\n",
    "import pandas as pd\n",
    "import numpy as np\n",
    "import matplotlib.pyplot as plt\n",
    "from nltk.stem import WordNetLemmatizer\n",
    "from nltk.corpus import wordnet\n",
    "import re, collections\n",
    "from collections import defaultdict\n",
    "from sklearn.feature_extraction.text import CountVectorizer\n",
    "from sklearn.metrics import mean_squared_error, r2_score\n",
    "from sklearn.model_selection import train_test_split\n",
    "from sklearn.linear_model import LinearRegression, Ridge, Lasso\n",
    "from sklearn.svm import SVR\n",
    "from sklearn import ensemble\n",
    "from sklearn.model_selection import GridSearchCV\n",
    "from sklearn.metrics import cohen_kappa_score"
   ]
  },
  {
   "cell_type": "code",
   "execution_count": 2,
   "id": "906d2535",
   "metadata": {},
   "outputs": [],
   "source": [
    "dataframe = pd.read_csv('train.csv', encoding = 'latin-1')\n",
    "testframe = pd.read_csv('test.csv', encoding = 'latin-1')\n",
    "test_question = pd.read_csv('all_prompts.csv', encoding = 'latin-1')"
   ]
  },
  {
   "cell_type": "code",
   "execution_count": 3,
   "id": "cc3db51b",
   "metadata": {},
   "outputs": [
    {
     "data": {
      "text/plain": [
       "Unnamed: 0          1240\n",
       "promptId            1240\n",
       "uniqueId            1240\n",
       "essay               1240\n",
       "evaluator_rating    1240\n",
       "dtype: int64"
      ]
     },
     "execution_count": 3,
     "metadata": {},
     "output_type": "execute_result"
    }
   ],
   "source": [
    "dataframe.count()"
   ]
  },
  {
   "cell_type": "code",
   "execution_count": 4,
   "id": "b3e7928a",
   "metadata": {},
   "outputs": [
    {
     "data": {
      "text/plain": [
       "<AxesSubplot:title={'center':'evaluator_rating'}, xlabel='promptId'>"
      ]
     },
     "execution_count": 4,
     "metadata": {},
     "output_type": "execute_result"
    },
    {
     "data": {
      "image/png": "[encoded data removed]",
      "text/plain": [
       "<Figure size 720x720 with 1 Axes>"
      ]
     },
     "metadata": {
      "needs_background": "light"
     },
     "output_type": "display_data"
    }
   ],
   "source": [
    "%matplotlib inline\n",
    "dataframe.boxplot(column = 'evaluator_rating', by = 'promptId', figsize = (10, 10))"
   ]
  },
  {
   "cell_type": "code",
   "execution_count": 5,
   "id": "d96e5a7c",
   "metadata": {},
   "outputs": [
    {
     "name": "stdout",
     "output_type": "stream",
     "text": [
      "      promptId                                              essay  \\\n",
      "0            1  At present age, our education system is not go...   \n",
      "1            1  I am agree the tightly defined curriculum of o...   \n",
      "2            1  I strongly agree with the statement that tight...   \n",
      "3            1  Our education system is nice quitely but i dis...   \n",
      "4            1  i am totally agree with the statement that tig...   \n",
      "...        ...                                                ...   \n",
      "1235         5  The entire world is in the race of producing a...   \n",
      "1236         5  The race in the development of weapons are pro...   \n",
      "1237         5  In an era where every second person hopes and ...   \n",
      "1238         5  INTRODUCTION :Since the beginning of the time ...   \n",
      "1239         5  \"To conquer a nation, first disarm its citizen...   \n",
      "\n",
      "      evaluator_rating  \n",
      "0                  3.0  \n",
      "1                  4.0  \n",
      "2                  2.0  \n",
      "3                  2.0  \n",
      "4                  3.0  \n",
      "...                ...  \n",
      "1235               3.0  \n",
      "1236               2.5  \n",
      "1237               4.0  \n",
      "1238               3.0  \n",
      "1239               4.5  \n",
      "\n",
      "[1240 rows x 3 columns]\n"
     ]
    }
   ],
   "source": [
    "data = dataframe[['promptId','essay','evaluator_rating']].copy()\n",
    "test = testframe[['promptId','essay']].copy()\n",
    "print(data)"
   ]
  },
  {
   "cell_type": "code",
   "execution_count": 6,
   "id": "3dcff4ba",
   "metadata": {},
   "outputs": [],
   "source": [
    "# Tokenize a sentence into words\n",
    "\n",
    "def sentence_to_wordlist(raw_sentence):\n",
    "    \n",
    "    clean_sentence = re.sub(\"[^a-zA-Z0-9]\",\" \", raw_sentence)\n",
    "    tokens = nltk.word_tokenize(clean_sentence)\n",
    "    \n",
    "    return tokens"
   ]
  },
  {
   "cell_type": "code",
   "execution_count": 7,
   "id": "ae0a093c",
   "metadata": {},
   "outputs": [],
   "source": [
    "# tokenizing an essay into a list of word lists\n",
    "\n",
    "def tokenize(essay):\n",
    "    stripped_essay = essay.strip()\n",
    "    \n",
    "    tokenizer = nltk.data.load('tokenizers/punkt/english.pickle')\n",
    "    raw_sentences = tokenizer.tokenize(stripped_essay)\n",
    "    \n",
    "    tokenized_sentences = []\n",
    "    for raw_sentence in raw_sentences:\n",
    "        if len(raw_sentence) > 0:\n",
    "            tokenized_sentences.append(sentence_to_wordlist(raw_sentence))\n",
    "    \n",
    "    return tokenized_sentences"
   ]
  },
  {
   "cell_type": "code",
   "execution_count": 8,
   "id": "a8243546",
   "metadata": {},
   "outputs": [],
   "source": [
    "# calculating average word length in an essay\n",
    "\n",
    "def avg_word_len(essay):\n",
    "    \n",
    "    clean_essay = re.sub(r'\\W', ' ', essay)\n",
    "    words = nltk.word_tokenize(clean_essay)\n",
    "    \n",
    "    return sum(len(word) for word in words) / len(words)"
   ]
  },
  {
   "cell_type": "code",
   "execution_count": 9,
   "id": "ef8c05d0",
   "metadata": {},
   "outputs": [],
   "source": [
    "# calculating number of words in an essay\n",
    "\n",
    "def word_count(essay):\n",
    "    \n",
    "    clean_essay = re.sub(r'\\W', ' ', essay)\n",
    "    words = nltk.word_tokenize(clean_essay)\n",
    "    \n",
    "    return len(words)"
   ]
  },
  {
   "cell_type": "code",
   "execution_count": 10,
   "id": "043cd955",
   "metadata": {},
   "outputs": [],
   "source": [
    "# calculating number of characters in an essay\n",
    "\n",
    "def char_count(essay):\n",
    "    \n",
    "    clean_essay = re.sub(r'\\s', '', str(essay).lower())\n",
    "    \n",
    "    return len(clean_essay)"
   ]
  },
  {
   "cell_type": "code",
   "execution_count": 11,
   "id": "cb6ef922",
   "metadata": {},
   "outputs": [],
   "source": [
    "# calculating number of sentences in an essay\n",
    "\n",
    "def sent_count(essay):\n",
    "    \n",
    "    sentences = nltk.sent_tokenize(essay)\n",
    "    \n",
    "    return len(sentences)"
   ]
  },
  {
   "cell_type": "code",
   "execution_count": 12,
   "id": "86e60c63",
   "metadata": {},
   "outputs": [],
   "source": [
    "# calculating number of lemmas per essay\n",
    "\n",
    "def count_lemmas(essay):\n",
    "    \n",
    "    tokenized_sentences = tokenize(essay)      \n",
    "    \n",
    "    lemmas = []\n",
    "    wordnet_lemmatizer = WordNetLemmatizer()\n",
    "    \n",
    "    for sentence in tokenized_sentences:\n",
    "        tagged_tokens = nltk.pos_tag(sentence) \n",
    "        \n",
    "        for token_tuple in tagged_tokens:\n",
    "        \n",
    "            pos_tag = token_tuple[1]\n",
    "        \n",
    "            if pos_tag.startswith('N'): \n",
    "                pos = wordnet.NOUN\n",
    "                lemmas.append(wordnet_lemmatizer.lemmatize(token_tuple[0], pos))\n",
    "            elif pos_tag.startswith('J'):\n",
    "                pos = wordnet.ADJ\n",
    "                lemmas.append(wordnet_lemmatizer.lemmatize(token_tuple[0], pos))\n",
    "            elif pos_tag.startswith('V'):\n",
    "                pos = wordnet.VERB\n",
    "                lemmas.append(wordnet_lemmatizer.lemmatize(token_tuple[0], pos))\n",
    "            elif pos_tag.startswith('R'):\n",
    "                pos = wordnet.ADV\n",
    "                lemmas.append(wordnet_lemmatizer.lemmatize(token_tuple[0], pos))\n",
    "            else:\n",
    "                pos = wordnet.NOUN\n",
    "                lemmas.append(wordnet_lemmatizer.lemmatize(token_tuple[0], pos))\n",
    "    \n",
    "    lemma_count = len(set(lemmas))\n",
    "    \n",
    "    return lemma_count"
   ]
  },
  {
   "cell_type": "code",
   "execution_count": 13,
   "id": "670889fc",
   "metadata": {},
   "outputs": [],
   "source": [
    "# checking number of misspelled words\n",
    "\n",
    "def count_spell_error(essay):\n",
    "    \n",
    "    clean_essay = re.sub(r'\\W', ' ', str(essay).lower())\n",
    "    clean_essay = re.sub(r'[0-9]', '', clean_essay)\n",
    "    \n",
    "    #big.txt: It is a concatenation of public domain book excerpts from Project Gutenberg \n",
    "    #         and lists of most frequent words from Wiktionary and the British National Corpus.\n",
    "    #         It contains about a million words.\n",
    "    data = open('big.txt').read()\n",
    "    test = open('big.txt').read()\n",
    "    words_ = re.findall('[a-z]+', data.lower())\n",
    "    \n",
    "    word_dict = collections.defaultdict(lambda: 0)\n",
    "                       \n",
    "    for word in words_:\n",
    "        word_dict[word] += 1\n",
    "                       \n",
    "    clean_essay = re.sub(r'\\W', ' ', str(essay).lower())\n",
    "    clean_essay = re.sub(r'[0-9]', '', clean_essay)\n",
    "                        \n",
    "    mispell_count = 0\n",
    "    \n",
    "    words = clean_essay.split()\n",
    "                        \n",
    "    for word in words:\n",
    "        if not word in word_dict:\n",
    "            mispell_count += 1\n",
    "    \n",
    "    return mispell_count"
   ]
  },
  {
   "cell_type": "code",
   "execution_count": 14,
   "id": "ebd04f64",
   "metadata": {},
   "outputs": [],
   "source": [
    "# calculating number of nouns, adjectives, verbs and adverbs in an essay\n",
    "\n",
    "def count_pos(essay):\n",
    "    \n",
    "    tokenized_sentences = tokenize(essay)\n",
    "    \n",
    "    noun_count = 0\n",
    "    adj_count = 0\n",
    "    verb_count = 0\n",
    "    adv_count = 0\n",
    "    \n",
    "    for sentence in tokenized_sentences:\n",
    "        tagged_tokens = nltk.pos_tag(sentence)\n",
    "        \n",
    "        for token_tuple in tagged_tokens:\n",
    "            pos_tag = token_tuple[1]\n",
    "        \n",
    "            if pos_tag.startswith('N'): \n",
    "                noun_count += 1\n",
    "            elif pos_tag.startswith('J'):\n",
    "                adj_count += 1\n",
    "            elif pos_tag.startswith('V'):\n",
    "                verb_count += 1\n",
    "            elif pos_tag.startswith('R'):\n",
    "                adv_count += 1\n",
    "            \n",
    "    return noun_count, adj_count, verb_count, adv_count"
   ]
  },
  {
   "cell_type": "code",
   "execution_count": 15,
   "id": "58af9df3",
   "metadata": {},
   "outputs": [],
   "source": [
    "# getiing Bag of Words (BOW) counts\n",
    "\n",
    "def get_count_vectors(essays):\n",
    "    \n",
    "    vectorizer = CountVectorizer(max_features = 10000, ngram_range=(1, 3), stop_words='english')\n",
    "    \n",
    "    count_vectors = vectorizer.fit_transform(essays)\n",
    "    \n",
    "    feature_names = vectorizer.get_feature_names()\n",
    "    \n",
    "    return feature_names, count_vectors"
   ]
  },
  {
   "cell_type": "code",
   "execution_count": 16,
   "id": "3726f2fb",
   "metadata": {},
   "outputs": [],
   "source": [
    "# splitting data into train data and test data (70/30)\n",
    "\n",
    "feature_names_cv, count_vectors = get_count_vectors(data['essay'])\n",
    "\n",
    "feature_names_test, count_test = get_count_vectors(test['essay'])\n",
    "\n",
    "test_set = count_test.toarray()\n",
    "\n",
    "X_cv = count_vectors.toarray()\n",
    "\n",
    "y_cv = data['evaluator_rating']\n",
    "\n",
    "X_train, X_test, y_train, y_test = train_test_split(X_cv, y_cv, test_size = 0.3)"
   ]
  },
  {
   "cell_type": "code",
   "execution_count": 17,
   "id": "717415bc",
   "metadata": {
    "scrolled": true
   },
   "outputs": [
    {
     "name": "stdout",
     "output_type": "stream",
     "text": [
      "Coefficients: \n",
      " [ 0.02284291 -0.03409029  0.01280176 ...  0.03318741  0.02458449\n",
      "  0.00836212]\n",
      "Mean squared error: 0.97\n",
      "Variance score: 0.10\n",
      "[1.75305515 1.67005045 1.67622927 1.166637   2.64164497 2.06038792\n",
      " 1.41361639 1.7902736  1.366979   1.25256303 2.31805764 1.35296646\n",
      " 1.38211439 1.29886181 1.78205421 1.84658685 1.59814968 2.08363742\n",
      " 1.45169715 1.33558675 1.09333151 2.22912871 1.70348708 1.47798458\n",
      " 1.24200081 1.31950944 2.04693568 1.52172598 1.57558662 1.6805305\n",
      " 1.41077632 2.61791503 1.20102527 1.32861205 1.16080111 1.71460076\n",
      " 1.68020893 2.58876775 1.03674452 1.27551947 2.3586705  1.16636532\n",
      " 1.72021176 1.81146186 1.92661909 1.94266356 1.61379949 1.17659619\n",
      " 1.746074   1.80811705 1.90206822 1.31256468 2.25379382 2.38869954\n",
      " 1.89386357 1.7348393  1.48632462 1.45370575 2.17673808 1.53434073\n",
      " 1.23434484 0.80931045 1.50611574 1.7825032  0.81991042 1.55044357\n",
      " 1.49567681 1.29607885 1.5660233  2.5841546  2.36484298 1.51338816\n",
      " 1.48559241 2.22436827 0.9591651  1.68922322 1.77459072 1.81718991\n",
      " 1.71820256 0.95491059 2.02965456 1.86450107 1.22973394 1.21059902\n",
      " 1.34050239 1.61640311 1.58597062 1.93846161 1.86421495 1.69116199\n",
      " 1.34063099 1.29335857 3.13458682 2.42479786 1.16060763 2.00775883\n",
      " 1.52292995 2.45471421 0.90957975 2.38826027 1.51662385 2.13671575\n",
      " 1.54191379 1.75289568 2.52287498 1.66514031 2.03124932 2.30312467\n",
      " 1.13038358 1.4890313  1.37219361 1.77263448 1.46588327 1.79971426\n",
      " 1.10609303 1.00623846 1.55125246 1.60671234 1.68571193 1.396511\n",
      " 2.48701099 1.92472275 1.17655035 1.71286138 1.31612709 1.57327988\n",
      " 2.73569802 1.65602267 1.23844087 2.38690241 2.66919776 1.21957148\n",
      " 2.71499862 2.66426772 1.83934644 0.94332547 2.04103041 1.37325095\n",
      " 1.37170989 0.84544507 0.52995242 1.01681135 0.96330923 1.53725158\n",
      " 2.10142141 2.84013047 2.1980515  2.63107651 1.6173037  1.96058612\n",
      " 2.46766854 2.10009995 1.79276613 1.27184701 2.50895894 0.52732039\n",
      " 1.24484555 1.61731004 1.86359628 2.16839034 2.272766   1.7070918\n",
      " 1.44722504 1.11879    1.96490664 2.0105979  0.22876642 1.93928411\n",
      " 1.46160026 2.03875207 0.99174661 2.09783958 1.36645726 0.92786667\n",
      " 1.88738376 1.93531243 2.2522431  1.90672681 2.8114132  2.10971968\n",
      " 1.86633687 1.51613023 1.3321497  1.81648128 1.35939653 0.75980512\n",
      " 1.75942624 0.65406556 2.17726806 2.06316761 1.482024   2.11269486\n",
      " 1.61709779 2.4228646  2.03200464 2.53757327 2.27034948 1.8946291\n",
      " 1.34071509 0.84895528 1.86101237 1.20099722 3.002582   1.14169872\n",
      " 1.79609918 2.41572859 1.45095287 0.91852455 1.72642094 1.24891792\n",
      " 1.28159837 1.90990814 0.47907144 1.4709793  0.4233994  1.70280792\n",
      " 2.24772483 1.59304832 1.87947108 1.73502365 1.78448776 1.40980979\n",
      " 2.3433082  1.31662882 2.89661934 1.82511208 3.3338367  2.06038213\n",
      " 2.90977273 2.2992752  1.78667711 4.03720681 0.85133941 2.638954\n",
      " 1.68253136 1.82690371 2.51187898 1.17384782 2.47720754 2.66788949\n",
      " 1.71952505 1.76539078 2.33335379 3.41759955 1.59272221 2.15410462\n",
      " 2.92818617 2.19323261 1.73429116 1.77153467 1.1250727  1.8110263\n",
      " 2.43629722 1.26544598 2.58435212 1.96492549 2.72320175 2.02855105\n",
      " 2.57230588 2.91161091 2.12409054 2.13681273 2.08942514 1.55226179\n",
      " 2.70707913 1.36357745 1.44401763 2.34608419 3.57312668 2.31739073\n",
      " 2.57262584 2.02938199 2.61522385 1.52755399 1.75469181 0.95091962\n",
      " 1.41657442 0.82879564 1.24440345 2.02328468 1.49089212 2.08915947\n",
      " 2.38636743 3.72995071 1.9140951  1.38765814 2.63837202 1.67392178\n",
      " 1.64430147 2.612614   2.20376778 1.21923066 2.55359186 1.39206299\n",
      " 1.68928628 1.96963414 1.44915887 2.29227944 1.39690787 2.41149096\n",
      " 2.10406852 2.23312618 2.13361155 2.61650147 3.70671628]\n",
      "(305,)\n"
     ]
    }
   ],
   "source": [
    "# Training a Linear Regression model using only Bag of Words (BOW)\n",
    "\n",
    "linear_regressor = LinearRegression()\n",
    "\n",
    "linear_regressor.fit(X_train, y_train)\n",
    "\n",
    "y_pred = linear_regressor.predict(X_test)\n",
    "y_result = linear_regressor.predict(test_set)\n",
    "# The coefficients\n",
    "print('Coefficients: \\n', linear_regressor.coef_)\n",
    "\n",
    "# The mean squared error\n",
    "print(\"Mean squared error: %.2f\" % mean_squared_error(y_test, y_pred))\n",
    "\n",
    "# Explained variance score: 1 is perfect prediction\n",
    "print('Variance score: %.2f' % linear_regressor.score(X_test, y_test))\n",
    "print(y_result)\n",
    "print(y_result.shape)"
   ]
  },
  {
   "cell_type": "code",
   "execution_count": 18,
   "id": "53178681",
   "metadata": {},
   "outputs": [],
   "source": [
    "# extracting essay features\n",
    "\n",
    "def extract_features(data):\n",
    "    \n",
    "    features = data.copy()\n",
    "    \n",
    "    features['char_count'] = features['essay'].apply(char_count)\n",
    "    \n",
    "    features['word_count'] = features['essay'].apply(word_count)\n",
    "    \n",
    "    features['sent_count'] = features['essay'].apply(sent_count)\n",
    "    \n",
    "    features['avg_word_len'] = features['essay'].apply(avg_word_len)\n",
    "    \n",
    "    features['lemma_count'] = features['essay'].apply(count_lemmas)\n",
    "    \n",
    "    features['spell_err_count'] = features['essay'].apply(count_spell_error)\n",
    "    \n",
    "    features['noun_count'], features['adj_count'], features['verb_count'], features['adv_count'] = zip(*features['essay'].map(count_pos))\n",
    "    \n",
    "    return features"
   ]
  },
  {
   "cell_type": "code",
   "execution_count": 19,
   "id": "561a3247",
   "metadata": {},
   "outputs": [
    {
     "name": "stdout",
     "output_type": "stream",
     "text": [
      "      promptId                                              essay  \\\n",
      "0            1  At present age, our education system is not go...   \n",
      "1            1  I am agree the tightly defined curriculum of o...   \n",
      "2            1  I strongly agree with the statement that tight...   \n",
      "3            1  Our education system is nice quitely but i dis...   \n",
      "4            1  i am totally agree with the statement that tig...   \n",
      "...        ...                                                ...   \n",
      "1235         5  The entire world is in the race of producing a...   \n",
      "1236         5  The race in the development of weapons are pro...   \n",
      "1237         5  In an era where every second person hopes and ...   \n",
      "1238         5  INTRODUCTION :Since the beginning of the time ...   \n",
      "1239         5  \"To conquer a nation, first disarm its citizen...   \n",
      "\n",
      "      evaluator_rating  char_count  word_count  sent_count  avg_word_len  \\\n",
      "0                  3.0        1406         306          12      4.535948   \n",
      "1                  4.0        1727         327           3      5.183486   \n",
      "2                  2.0         755         163           3      4.576687   \n",
      "3                  2.0        1532         325           4      4.658462   \n",
      "4                  3.0        1479         343           3      4.247813   \n",
      "...                ...         ...         ...         ...           ...   \n",
      "1235               3.0        2184         461          21      4.665944   \n",
      "1236               2.5        2215         464           1      4.737069   \n",
      "1237               4.0        2388         530          24      4.416981   \n",
      "1238               3.0        2466         505          18      4.768317   \n",
      "1239               4.5        2601         532          34      4.780075   \n",
      "\n",
      "      lemma_count  spell_err_count  noun_count  adj_count  verb_count  \\\n",
      "0             140               10          86         22          44   \n",
      "1             173               14         106         29          56   \n",
      "2              89               11          39         12          27   \n",
      "3             135               53          84         30          66   \n",
      "4             125               10          66         17          71   \n",
      "...           ...              ...         ...        ...         ...   \n",
      "1235          175               12         138         27          68   \n",
      "1236          178               20         129         42          72   \n",
      "1237          244               26         133         37          95   \n",
      "1238          261               42         190         54          63   \n",
      "1239          291               34         163         53          92   \n",
      "\n",
      "      adv_count  \n",
      "0            25  \n",
      "1            12  \n",
      "2             7  \n",
      "3            12  \n",
      "4            25  \n",
      "...         ...  \n",
      "1235         20  \n",
      "1236         23  \n",
      "1237         20  \n",
      "1238         17  \n",
      "1239         17  \n",
      "\n",
      "[1240 rows x 13 columns]\n",
      "     promptId                                              essay  char_count  \\\n",
      "0           1  Curriculum has been adopted in many schools. T...        1476   \n",
      "1           1  I strongly agree with the statement ,  The tig...        1389   \n",
      "2           1  Imagination and creativity is the most importa...        1024   \n",
      "3           1  In our eduction system leaves no room for imag...         950   \n",
      "4           1  I will agree at some what extend, because if w...        1358   \n",
      "..        ...                                                ...         ...   \n",
      "300         5  Earth is a creation of God and everything that...        1136   \n",
      "301         5  production of arms and weapons in this present...         879   \n",
      "302         5  Race to become more powerful can destroy the e...        1165   \n",
      "303         5  In its attempt to harness the power of the ato...        1905   \n",
      "304         5  Racein the production of arms and weapons in t...        1588   \n",
      "\n",
      "     word_count  sent_count  avg_word_len  lemma_count  spell_err_count  \\\n",
      "0           304           5      4.799342          133               19   \n",
      "1           271           7      5.011070          143               16   \n",
      "2           219           3      4.602740           96               18   \n",
      "3           210           1      4.461905           98                3   \n",
      "4           311           5      4.279743          146               21   \n",
      "..          ...         ...           ...          ...              ...   \n",
      "300         259           8      4.308880          130               12   \n",
      "301         190           1      4.557895           88                3   \n",
      "302         242          11      4.735537          132               10   \n",
      "303         378          20      4.862434          209               18   \n",
      "304         362           4      4.312155          126               35   \n",
      "\n",
      "     noun_count  adj_count  verb_count  adv_count  \n",
      "0            85         25          54          9  \n",
      "1            78         21          60         17  \n",
      "2            55         12          39         10  \n",
      "3            59         10          37         23  \n",
      "4            64         34          59         18  \n",
      "..          ...        ...         ...        ...  \n",
      "300          71         22          44         15  \n",
      "301          46         23          37          7  \n",
      "302          74         27          46          6  \n",
      "303         111         39          63         14  \n",
      "304          99         39          49         27  \n",
      "\n",
      "[305 rows x 12 columns]\n"
     ]
    }
   ],
   "source": [
    "# extracting features from essay set 1\n",
    "\n",
    "features_set1 = extract_features(data)\n",
    "\n",
    "print(features_set1)\n",
    "\n",
    "features_set2 = extract_features(test)\n",
    "\n",
    "print(features_set2)"
   ]
  },
  {
   "cell_type": "code",
   "execution_count": 20,
   "id": "4e879913",
   "metadata": {},
   "outputs": [
    {
     "data": {
      "text/plain": [
       "<AxesSubplot:xlabel='adv_count', ylabel='evaluator_rating'>"
      ]
     },
     "execution_count": 20,
     "metadata": {},
     "output_type": "execute_result"
    },
    {
     "data": {
      "image/png": "[encoded data removed]",
      "text/plain": [
       "<Figure size 432x288 with 1 Axes>"
      ]
     },
     "metadata": {
      "needs_background": "light"
     },
     "output_type": "display_data"
    },
    {
     "data": {
      "image/png": "[encoded data removed]",
      "text/plain": [
       "<Figure size 432x288 with 1 Axes>"
      ]
     },
     "metadata": {
      "needs_background": "light"
     },
     "output_type": "display_data"
    },
    {
     "data": {
      "image/png": "[encoded data removed]",
      "text/plain": [
       "<Figure size 432x288 with 1 Axes>"
      ]
     },
     "metadata": {
      "needs_background": "light"
     },
     "output_type": "display_data"
    },
    {
     "data": {
      "image/png": "[encoded data removed]",
      "text/plain": [
       "<Figure size 432x288 with 1 Axes>"
      ]
     },
     "metadata": {
      "needs_background": "light"
     },
     "output_type": "display_data"
    },
    {
     "data": {
      "image/png": "[encoded data removed]",
      "text/plain": [
       "<Figure size 432x288 with 1 Axes>"
      ]
     },
     "metadata": {
      "needs_background": "light"
     },
     "output_type": "display_data"
    },
    {
     "data": {
      "image/png": "[encoded data removed]",
      "text/plain": [
       "<Figure size 432x288 with 1 Axes>"
      ]
     },
     "metadata": {
      "needs_background": "light"
     },
     "output_type": "display_data"
    },
    {
     "data": {
      "image/png": "[encoded data removed]",
      "text/plain": [
       "<Figure size 432x288 with 1 Axes>"
      ]
     },
     "metadata": {
      "needs_background": "light"
     },
     "output_type": "display_data"
    },
    {
     "data": {
      "image/png": "[encoded data removed]",
      "text/plain": [
       "<Figure size 432x288 with 1 Axes>"
      ]
     },
     "metadata": {
      "needs_background": "light"
     },
     "output_type": "display_data"
    },
    {
     "data": {
      "image/png": "[encoded data removed]",
      "text/plain": [
       "<Figure size 432x288 with 1 Axes>"
      ]
     },
     "metadata": {
      "needs_background": "light"
     },
     "output_type": "display_data"
    },
    {
     "data": {
      "image/png": "[encoded data removed]",
      "text/plain": [
       "<Figure size 432x288 with 1 Axes>"
      ]
     },
     "metadata": {
      "needs_background": "light"
     },
     "output_type": "display_data"
    }
   ],
   "source": [
    "# Exploratory Data Analysis (EDA) on the data\n",
    "\n",
    "%matplotlib inline\n",
    "features_set1.plot.scatter(x = 'char_count', y = 'evaluator_rating', s=10)\n",
    "features_set1.plot.scatter(x = 'word_count', y = 'evaluator_rating', s=10)\n",
    "features_set1.plot.scatter(x = 'sent_count', y = 'evaluator_rating', s=10)\n",
    "features_set1.plot.scatter(x = 'avg_word_len', y = 'evaluator_rating', s=10)\n",
    "features_set1.plot.scatter(x = 'lemma_count', y = 'evaluator_rating', s=10)\n",
    "features_set1.plot.scatter(x = 'spell_err_count', y = 'evaluator_rating', s=10)\n",
    "features_set1.plot.scatter(x = 'noun_count', y = 'evaluator_rating', s=10)\n",
    "features_set1.plot.scatter(x = 'adj_count', y = 'evaluator_rating', s=10)\n",
    "features_set1.plot.scatter(x = 'verb_count', y = 'evaluator_rating', s=10)\n",
    "features_set1.plot.scatter(x = 'adv_count', y = 'evaluator_rating', s=10)\n",
    "\n",
    "# Essay Set 1 Trends:\n",
    "\n",
    "# By plotting the below scatter plots, we can examine how different features above affect the grade the student receives.\n",
    "\n",
    "# 1. I observed that there is a strong correlation between character count of an essay and the final essay score. \n",
    "#    I observed similar correlations for word count, sentence count and lemma count of an essay.\n",
    "#    These features indicate language fluency and dexterity.\n",
    "# 2. Various parts-of-speech such as nouns, adjectives adverbs and verbs are good proxies to test vocabulary. \n",
    "#    This feature can also be taken as a rudimentary proxy for diction.\n",
    "#    I observed a strong correlation between noun_count and the final essay score. Sililar trends were observed for verb count,\n",
    "#    adjective count and adverb count of an essay.\n",
    "# 3. I did not observe any significant correlation between average word length of an essay and its score.\n",
    "# 4. There is a weaker correlation between the number of spelling errors and the final score of an essay."
   ]
  },
  {
   "cell_type": "code",
   "execution_count": 21,
   "id": "82466351",
   "metadata": {},
   "outputs": [
    {
     "name": "stdout",
     "output_type": "stream",
     "text": [
      "(868, 10000)\n",
      "(305, 10000)\n",
      "[[0 0 0 ... 0 0 0]\n",
      " [0 0 0 ... 0 0 0]\n",
      " [0 0 0 ... 0 0 0]\n",
      " ...\n",
      " [0 0 0 ... 0 0 0]\n",
      " [0 0 0 ... 0 0 0]\n",
      " [0 0 0 ... 0 0 0]]\n"
     ]
    }
   ],
   "source": [
    "# splitting data (BOW + other features) into train data and test data (70/30)\n",
    "print(X_train.shape)\n",
    "print(test_set.shape)\n",
    "X = np.concatenate((features_set1.iloc[:, 3:], X_cv), axis = 1)\n",
    "y = features_set1['evaluator_rating']\n",
    "print(X_cv)\n",
    "X_train, X_test, y_train, y_test = train_test_split(X, y, test_size = 0.3)"
   ]
  },
  {
   "cell_type": "code",
   "execution_count": 22,
   "id": "16c724a0",
   "metadata": {},
   "outputs": [
    {
     "name": "stdout",
     "output_type": "stream",
     "text": [
      "(868, 10010)\n",
      "(305, 10000)\n",
      "(305, 10010)\n"
     ]
    }
   ],
   "source": [
    "print(X_train.shape)\n",
    "print(test_set.shape)\n",
    "test_set = np.concatenate((features_set2.iloc[:, 2:], test_set), axis = 1)\n",
    "print(test_set.shape)"
   ]
  },
  {
   "cell_type": "code",
   "execution_count": 23,
   "id": "feaa14f9",
   "metadata": {},
   "outputs": [
    {
     "name": "stdout",
     "output_type": "stream",
     "text": [
      "Coefficients: \n",
      " [ 0.00129835 -0.0038858   0.01320749 ...  0.0007109   0.03124615\n",
      "  0.00297332]\n",
      "Mean squared error: 0.99\n",
      "Variance score: 0.18\n"
     ]
    }
   ],
   "source": [
    "linear_regressor = LinearRegression()\n",
    "\n",
    "linear_regressor.fit(X_train, y_train)\n",
    "\n",
    "y_pred = linear_regressor.predict(X_test)\n",
    "\n",
    "y_result = linear_regressor.predict(test_set)\n",
    "# The coefficients\n",
    "print('Coefficients: \\n', linear_regressor.coef_)\n",
    "\n",
    "# The mean squared error\n",
    "print(\"Mean squared error: %.2f\" % mean_squared_error(y_test, y_pred))\n",
    "\n",
    "# Explained variance score: 1 is perfect prediction\n",
    "print('Variance score: %.2f' % linear_regressor.score(X_test, y_test))"
   ]
  },
  {
   "cell_type": "code",
   "execution_count": 24,
   "id": "e3082db3",
   "metadata": {},
   "outputs": [
    {
     "name": "stdout",
     "output_type": "stream",
     "text": [
      "0.11796584835223242\n",
      "3.0\n",
      "Mean squared error: 0.97\n",
      "Variance score: 0.20\n"
     ]
    }
   ],
   "source": [
    "# Training a Ridge Regression model (l2 regularization) using all the features (BOW + other features)\n",
    "\n",
    "alphas = np.array([3, 1, 0.3, 0.1])\n",
    "\n",
    "ridge_regressor = Ridge()\n",
    "\n",
    "grid = GridSearchCV(estimator = ridge_regressor, param_grid = dict(alpha=alphas))\n",
    "grid.fit(X_train, y_train)\n",
    "\n",
    "y_pred = grid.predict(X_test)\n",
    "y_result = grid.predict(test_set)\n",
    "# summarize the results of the grid search\n",
    "print(grid.best_score_)\n",
    "print(grid.best_estimator_.alpha)\n",
    "\n",
    "# The mean squared error\n",
    "print(\"Mean squared error: %.2f\" % mean_squared_error(y_test, y_pred))\n",
    "\n",
    "# Explained variance score: 1 is perfect prediction\n",
    "print('Variance score: %.2f' % grid.score(X_test, y_test))"
   ]
  },
  {
   "cell_type": "code",
   "execution_count": 25,
   "id": "82ea2fe8",
   "metadata": {},
   "outputs": [
    {
     "name": "stdout",
     "output_type": "stream",
     "text": [
      "0.3017906515024832\n",
      "0.1\n",
      "Mean squared error: 0.76\n",
      "Variance score: 0.38\n",
      "[2.60051174 2.93638954 2.05201374 2.35851531 2.63527833 2.38566704\n",
      " 2.75319608 2.92134631 2.34253505 2.51757211 2.4451487  2.75927973\n",
      " 2.68767629 2.64251244 3.22133    2.34896261 2.86076308 2.23684181\n",
      " 3.02379254 2.75740096 2.82788901 2.95645556 2.43840759 2.38855535\n",
      " 2.73213566 3.01218919 2.78920228 2.82972591 3.00007092 2.75513308\n",
      " 2.38790466 2.83503644 2.40800831 3.2598698  2.1193309  2.97981229\n",
      " 2.64205878 2.82280956 2.9950626  2.91031089 2.45038983 2.86863054\n",
      " 3.07053045 2.8837231  2.3860309  3.28248252 3.03971929 3.20654052\n",
      " 2.54176307 2.95583885 2.68143782 3.10538245 3.24509074 2.53755606\n",
      " 2.23783194 1.92112948 2.90306261 2.2055424  3.05635597 2.46208881\n",
      " 2.52410394 2.83756455 2.45114927 3.37570935 2.56225671 2.39542503\n",
      " 1.43264276 1.91242099 4.33753186 2.51595952 2.47239606 2.51403116\n",
      " 2.6475642  2.39377984 1.60008645 2.1255595  3.76434293 3.32817506\n",
      " 2.88931567 2.16238368 3.05095023 3.25669935 1.43085336 2.95823433\n",
      " 2.38530161 3.08018027 2.62516865 2.23927842 3.25703014 2.29481538\n",
      " 2.54705789 2.53164832 2.68253016 2.47561519 2.0871922  1.91179408\n",
      " 2.1985013  3.06104784 3.49557062 2.94575706 3.04913055 2.42870678\n",
      " 2.6707671  2.13460693 2.5225821  2.77757273 1.88076405 2.27918342\n",
      " 1.93973981 2.55575737 3.62124834 2.70028675 2.527754   2.30227014\n",
      " 2.68604494 2.50134741 2.42685635 2.83919973 2.35650081 2.97270159\n",
      " 3.0235606  2.75938444 2.91325912 2.84501035 2.34707998 2.00628231\n",
      " 2.81985798 1.55348048 2.90136651 3.02645974 2.96203632 2.21809732\n",
      " 1.77987949 2.60633215 2.76743919 1.91545644 2.71254092 2.36314803\n",
      " 1.91755882 2.21808719 0.94982896 2.73413396 2.458826   2.11238042\n",
      " 2.5989036  3.10024578 2.47280497 3.00498738 2.54109156 3.55637548\n",
      " 3.38315807 1.89126486 3.22764235 2.2619525  1.75863259 1.91255511\n",
      " 3.1535643  1.74627405 2.15624467 2.19759822 3.06031927 1.82777027\n",
      " 2.62777154 2.07596571 2.60230769 2.89595261 2.30842922 2.88837852\n",
      " 3.3130195  2.4819924  3.0697947  3.0686379  2.33372069 2.96129906\n",
      " 2.02199485 3.38747461 2.88948036 2.34722663 2.88363152 3.12215616\n",
      " 2.49402998 3.52596223 2.85565907 2.98734331 2.19942154 2.23020235\n",
      " 3.11081375 2.88224915 3.66468188 2.70883965 3.27370364 2.95249282\n",
      " 2.50172762 2.51025941 2.94535913 2.97875514 1.64167912 2.16351965\n",
      " 1.6256235  2.4073092  2.77885601 4.46477758 2.82816846 1.6691656\n",
      " 2.1945253  2.5523425  2.76268163 2.139283   2.95259158 2.4351549\n",
      " 3.17172731 2.39007542 2.76202222 3.53964983 2.292868   2.78706718\n",
      " 2.83059274 2.43861892 2.3442278  3.08841329 2.99964977 2.65023964\n",
      " 2.78851214 2.68171082 3.59955358 3.38309217 2.45024605 2.04788435\n",
      " 1.62573639 1.64576899 1.22075936 3.26848742 2.38894687 2.00819038\n",
      " 2.98022282 2.13426268 2.43724991 3.49003705 1.9784376  2.56329976\n",
      " 2.13851626 4.01625889 2.99399683 2.73017756 3.39748687 3.32740756\n",
      " 2.73335463 3.13470509 2.21668804 1.40139337 3.7846593  2.6048254\n",
      " 1.9969429  1.21000285 3.0769869  2.39991925 2.56426929 2.45185205\n",
      " 2.83478105 1.57181674 2.26474754 2.2327456  2.00270021 2.19526995\n",
      " 2.01563103 1.89948532 1.42856873 3.15163271 2.76624738 1.82095305\n",
      " 1.75896415 1.89915361 1.60368929 2.22603148 1.62057733 2.12465209\n",
      " 1.30202638 2.1274345  2.27269896 2.89889526 2.61842039 2.49412079\n",
      " 2.4187325  1.87340967 1.72542918 2.3253534  3.03187058 2.04811265\n",
      " 1.47089949 2.70518502 2.50889308 2.86358699 3.07903724 2.90000241\n",
      " 2.44223077 3.23132351 2.96194382 2.641139   2.74941392 1.96868329\n",
      " 2.56838325 2.13156263 2.69384921 3.88500765 1.92316918]\n",
      "(305,)\n",
      "(305, 10010)\n"
     ]
    }
   ],
   "source": [
    "# Training a Lasso Regression model (l1 regularization) using all the features (BOW + other features)\n",
    "\n",
    "alphas = np.array([3, 1, 0.3, 0.1])\n",
    "\n",
    "lasso_regressor = Lasso()\n",
    "\n",
    "grid = GridSearchCV(estimator = lasso_regressor, param_grid = dict(alpha=alphas))\n",
    "grid.fit(X_train, y_train)\n",
    "\n",
    "y_pred = grid.predict(X_test)\n",
    "y_result = grid.predict(test_set)\n",
    "# summarize the results of the grid search\n",
    "print(grid.best_score_)\n",
    "print(grid.best_estimator_.alpha)\n",
    "\n",
    "# The mean squared error\n",
    "print(\"Mean squared error: %.2f\" % mean_squared_error(y_test, y_pred))\n",
    "\n",
    "# Explained variance score: 1 is perfect prediction\n",
    "print('Variance score: %.2f' % grid.score(X_test, y_test))\n",
    "print(y_result)\n",
    "print(y_result.shape)\n",
    "print(test_set.shape)"
   ]
  },
  {
   "cell_type": "code",
   "execution_count": null,
   "id": "9352f0cb",
   "metadata": {},
   "outputs": [],
   "source": []
  },
  {
   "cell_type": "code",
   "execution_count": 26,
   "id": "49a288f8",
   "metadata": {},
   "outputs": [],
   "source": [
    "# splitting data (only 10 numerical/POS/orthographic features) into train data and test data (70/30)\n",
    "    \n",
    "X = features_set1.iloc[:, 3:]\n",
    "\n",
    "y = features_set1['evaluator_rating']\n",
    "\n",
    "X_train, X_test, y_train, y_test = train_test_split(X, y, test_size = 0.3)"
   ]
  },
  {
   "cell_type": "code",
   "execution_count": 27,
   "id": "06f22f73",
   "metadata": {},
   "outputs": [
    {
     "name": "stdout",
     "output_type": "stream",
     "text": [
      "      char_count  word_count  sent_count  avg_word_len  lemma_count  \\\n",
      "765          997         225           1      4.302222          107   \n",
      "426          879         202           5      4.252475          124   \n",
      "236         1475         323          20      4.476780          181   \n",
      "1066        1131         249           3      4.453815          140   \n",
      "933          807         175          15      4.514286           85   \n",
      "...          ...         ...         ...           ...          ...   \n",
      "859         1271         291          13      4.261168          159   \n",
      "308         1462         324          21      4.432099          157   \n",
      "51          1673         333          12      4.963964          177   \n",
      "802         1059         228           4      4.526316          123   \n",
      "140         1393         299          10      4.602007          142   \n",
      "\n",
      "      spell_err_count  noun_count  adj_count  verb_count  adv_count  \n",
      "765                12          62         24          38          8  \n",
      "426                27          62         30          26         11  \n",
      "236                15          91         28          47         17  \n",
      "1066               26          66         23          44         11  \n",
      "933                14          42         12          27          6  \n",
      "...               ...         ...        ...         ...        ...  \n",
      "859                16          71         28          49         25  \n",
      "308                19          74         37          53         21  \n",
      "51                 19         100         33          54         25  \n",
      "802                17          63         19          44         10  \n",
      "140                22          73         22          50         15  \n",
      "\n",
      "[868 rows x 10 columns]\n"
     ]
    }
   ],
   "source": [
    "print(X_train)"
   ]
  },
  {
   "cell_type": "code",
   "execution_count": 28,
   "id": "a1761c67",
   "metadata": {},
   "outputs": [
    {
     "name": "stdout",
     "output_type": "stream",
     "text": [
      "Coefficients: \n",
      " [ 0.00083565 -0.00290329  0.00590794  0.27533913  0.01550506 -0.0233375\n",
      " -0.00225273 -0.01319898  0.00372718  0.00958619]\n",
      "Mean squared error: 0.80\n",
      "Variance score: 0.33\n"
     ]
    }
   ],
   "source": [
    "# Training a Linear Regression model using only 10 numerical/POS/orthographic features\n",
    "\n",
    "linear_regressor = LinearRegression()\n",
    "\n",
    "linear_regressor.fit(X_train, y_train)\n",
    "\n",
    "y_pred = linear_regressor.predict(X_test)\n",
    "\n",
    "# The coefficients\n",
    "print('Coefficients: \\n', linear_regressor.coef_)\n",
    "\n",
    "# The mean squared error\n",
    "print(\"Mean squared error: %.2f\" % mean_squared_error(y_test, y_pred))\n",
    "\n",
    "# Explained variance score: 1 is perfect prediction\n",
    "print('Variance score: %.2f' % linear_regressor.score(X_test, y_test))\n"
   ]
  },
  {
   "cell_type": "code",
   "execution_count": 29,
   "id": "06503dd8",
   "metadata": {},
   "outputs": [
    {
     "name": "stdout",
     "output_type": "stream",
     "text": [
      "0.2812333820288241\n",
      "3.0\n",
      "Mean squared error: 0.80\n",
      "Variance score: 0.33\n"
     ]
    }
   ],
   "source": [
    "# Training a Ridge Regression model (l2 regularization) using only 10 numerical/POS/orthographic features\n",
    "\n",
    "alphas = np.array([3, 1, 0, 0.3, 0.1, 0.03, 0.01, 0.003, 0.001])\n",
    "\n",
    "ridge_regressor = Ridge()\n",
    "\n",
    "grid = GridSearchCV(estimator = ridge_regressor, param_grid = dict(alpha=alphas))\n",
    "grid.fit(X_train, y_train)\n",
    "\n",
    "y_pred = grid.predict(X_test)\n",
    "\n",
    "# summarize the results of the grid search\n",
    "print(grid.best_score_)\n",
    "print(grid.best_estimator_.alpha)\n",
    "\n",
    "# The mean squared error\n",
    "print(\"Mean squared error: %.2f\" % mean_squared_error(y_test, y_pred))\n",
    "\n",
    "# Explained variance score: 1 is perfect prediction\n",
    "print('Variance score: %.2f' % grid.score(X_test, y_test))"
   ]
  },
  {
   "cell_type": "code",
   "execution_count": 30,
   "id": "757b16b2",
   "metadata": {},
   "outputs": [
    {
     "name": "stdout",
     "output_type": "stream",
     "text": [
      "0.2850953766850258\n",
      "0.1\n",
      "Mean squared error: 0.80\n",
      "Variance score: 0.33\n"
     ]
    }
   ],
   "source": [
    "# Training a Lasso Regression model (l1 regularization) using only 10 numerical/POS/orthographic features\n",
    "\n",
    "alphas = np.array([3, 1, 0.3, 0.1, 0.3])\n",
    "\n",
    "lasso_regressor = Lasso()\n",
    "\n",
    "grid = GridSearchCV(estimator = lasso_regressor, param_grid = dict(alpha=alphas))\n",
    "grid.fit(X_train, y_train)\n",
    "\n",
    "y_pred = grid.predict(X_test)\n",
    "\n",
    "# summarize the results of the grid search\n",
    "print(grid.best_score_)\n",
    "print(grid.best_estimator_.alpha)\n",
    "\n",
    "# The mean squared error\n",
    "print(\"Mean squared error: %.2f\" % mean_squared_error(y_test, y_pred))\n",
    "\n",
    "# Explained variance score: 1 is perfect prediction\n",
    "print('Variance score: %.2f' % grid.score(X_test, y_test))"
   ]
  },
  {
   "cell_type": "code",
   "execution_count": 31,
   "id": "807b3dfe",
   "metadata": {},
   "outputs": [
    {
     "name": "stdout",
     "output_type": "stream",
     "text": [
      "0.28765679685381007\n",
      "GradientBoostingRegressor(learning_rate=0.01, max_depth=2, n_estimators=500)\n",
      "MSE: 0.7522\n",
      "Variance score: 0.37\n",
      "\n"
     ]
    },
    {
     "data": {
      "image/png": "[encoded data removed]",
      "text/plain": [
       "<Figure size 432x288 with 1 Axes>"
      ]
     },
     "metadata": {
      "needs_background": "light"
     },
     "output_type": "display_data"
    }
   ],
   "source": [
    "# Training a Gradient Boosting Regression model using only 10 numerical/POS/orthographic features\n",
    "\n",
    "params = {'n_estimators':[50, 100, 500, 1000], 'max_depth':[2], 'min_samples_split': [2],\n",
    "          'learning_rate':[1, 0.1, 0.3, 0.01], 'loss': ['ls']}\n",
    "\n",
    "gbr = ensemble.GradientBoostingRegressor()\n",
    "\n",
    "grid = GridSearchCV(gbr, params)\n",
    "grid.fit(X_train, y_train)\n",
    "\n",
    "y_pred = grid.predict(X_test)\n",
    "\n",
    "# summarize the results of the grid search\n",
    "print(grid.best_score_)\n",
    "print(grid.best_estimator_)\n",
    "\n",
    "mse = mean_squared_error(y_test, y_pred)\n",
    "print(\"MSE: %.4f\" % mse)\n",
    "\n",
    "# Explained variance score: 1 is perfect prediction\n",
    "print('Variance score: %.2f' % grid.score(X_test, y_test))\n",
    "print()\n",
    "\n",
    "\n",
    "# Plot feature importance - to find the main factors affecting the final grade\n",
    "feature_importance = grid.best_estimator_.feature_importances_\n",
    "\n",
    "# make importances relative to max importance\n",
    "feature_importance = 100.0 * (feature_importance / feature_importance.max())\n",
    "feature_names = list(features_set1.iloc[:, 3:].columns.values)\n",
    "feature_names = np.asarray(feature_names)\n",
    "sorted_idx = np.argsort(feature_importance)\n",
    "pos = np.arange(sorted_idx.shape[0]) + .5\n",
    "plt.subplot(1, 2, 2)\n",
    "plt.barh(pos, feature_importance[sorted_idx], align='center')\n",
    "plt.yticks(pos, feature_names[sorted_idx])\n",
    "plt.xlabel('Relative Importance')\n",
    "plt.title('Variable Importance')\n",
    "plt.show()"
   ]
  },
  {
   "cell_type": "code",
   "execution_count": 32,
   "id": "2bb1f5cc",
   "metadata": {},
   "outputs": [
    {
     "name": "stdout",
     "output_type": "stream",
     "text": [
      "(305, 2)\n",
      "(305, 3)\n"
     ]
    }
   ],
   "source": [
    "\n",
    "y_result = pd.DataFrame(y_result)\n",
    "y_result.columns = ['evaluator_rating']\n",
    "y_result = y_result.round({'evaluator_rating':0})\n",
    "print(test.shape)\n",
    "test['evaluator_rating'] = y_result\n",
    "print(test.shape)\n",
    "test.to_csv('test_prediction.csv')"
   ]
  },
  {
   "cell_type": "code",
   "execution_count": null,
   "id": "f4079ae7",
   "metadata": {},
   "outputs": [],
   "source": []
  },
  {
   "cell_type": "code",
   "execution_count": 33,
   "id": "2cde6bf1",
   "metadata": {},
   "outputs": [],
   "source": [
    "# Observations:\n",
    "    \n",
    "# 1. Using only BOW features:\n",
    "#     Lasso Regression performs better than linear regression.\n",
    "\n",
    "# 2. Using all features:\n",
    "#     Lasso Regression performs much better than Linear Regression and Ridge Regression.\n",
    "#     Gradient Boosting Regression performs better i.e. has a higher variance score and kappa score than all of the above.\n",
    "\n",
    "# 3. Using only numerical/POS/orthographic features:\n",
    "#     Support Vector Regression performs the worst among all other models.\n",
    "#     Linear, Ridge and Lasso Regression have a similar performance.\n",
    "#     Gradient Boosting Regression has the highest variance and kappa scores.\n",
    "\n",
    "# Hence, we can observe that models trained with all the features (BOW + numerical/POS/orthographic features) and \n",
    "# models trained only with 10 numerical/POS/orthographic features produce similar scores.\n",
    "\n",
    "# More features such as tf-idf scores, punctuation counts, essay sentiment, essay prompt etc can be added to improve \n",
    "# accuracy of prediction."
   ]
  },
  {
   "cell_type": "code",
   "execution_count": null,
   "id": "73705480",
   "metadata": {},
   "outputs": [],
   "source": []
  }
 ],
 "metadata": {
  "kernelspec": {
   "display_name": "Python 3",
   "language": "python",
   "name": "python3"
  },
  "language_info": {
   "codemirror_mode": {
    "name": "ipython",
    "version": 3
   },
   "file_extension": ".py",
   "mimetype": "text/x-python",
   "name": "python",
   "nbconvert_exporter": "python",
   "pygments_lexer": "ipython3",
   "version": "3.8.8"
  }
 },
 "nbformat": 4,
 "nbformat_minor": 5
}
